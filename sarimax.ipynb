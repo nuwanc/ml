{
  "nbformat": 4,
  "nbformat_minor": 0,
  "metadata": {
    "colab": {
      "provenance": [],
      "authorship_tag": "ABX9TyM9KgSckxjRvsIFe4KFBi9S",
      "include_colab_link": true
    },
    "kernelspec": {
      "name": "python3",
      "display_name": "Python 3"
    },
    "language_info": {
      "name": "python"
    }
  },
  "cells": [
    {
      "cell_type": "markdown",
      "metadata": {
        "id": "view-in-github",
        "colab_type": "text"
      },
      "source": [
        "<a href=\"https://colab.research.google.com/github/nuwanc/ml/blob/main/sarimax.ipynb\" target=\"_parent\"><img src=\"https://colab.research.google.com/assets/colab-badge.svg\" alt=\"Open In Colab\"/></a>"
      ]
    },
    {
      "cell_type": "code",
      "execution_count": 3,
      "metadata": {
        "colab": {
          "base_uri": "https://localhost:8080/"
        },
        "id": "7ByBeOIoh3Pc",
        "outputId": "2f61a4e7-0ecd-4075-d5af-af2eede2f88f"
      },
      "outputs": [
        {
          "output_type": "stream",
          "name": "stdout",
          "text": [
            "                 date      sales weather  promotion\n",
            "0 2023-01-01 00:00:00  23.172134   sunny          1\n",
            "1 2023-01-01 01:00:00  15.172134  cloudy          0\n",
            "2 2023-01-01 02:00:00  21.172134   sunny          0\n",
            "3 2023-01-01 03:00:00  25.172134   rainy          0\n",
            "4 2023-01-01 04:00:00  15.172134   rainy          1\n"
          ]
        }
      ],
      "source": [
        "import pandas as pd\n",
        "import numpy as np\n",
        "\n",
        "# Generate sample data\n",
        "np.random.seed(42)\n",
        "date_rng = pd.date_range(start='2023-01-01', end='2023-12-31', freq='H')\n",
        "data = pd.DataFrame(date_rng, columns=['date'])\n",
        "\n",
        "# Simulate sales data with some seasonality and trend\n",
        "data['sales'] = np.random.poisson(lam=20, size=len(date_rng)) + \\\n",
        "                10 * np.sin(2 * np.pi * data['date'].dt.dayofyear / 365) + \\\n",
        "                5 * (data['date'].dt.dayofyear // 100)\n",
        "\n",
        "# Add weather conditions\n",
        "weather_conditions = ['sunny', 'rainy', 'cloudy']\n",
        "data['weather'] = np.random.choice(weather_conditions, size=len(date_rng))\n",
        "\n",
        "# Add promotions\n",
        "data['promotion'] = np.random.choice([0, 1], size=len(date_rng))\n",
        "\n",
        "# Display the first few rows of the dataset\n",
        "print(data.head())\n",
        "\n",
        "# Save dataset to a CSV file\n",
        "data.to_csv('sample_bakery_sales.csv', index=False)\n"
      ]
    },
    {
      "cell_type": "code",
      "source": [
        "import pandas as pd\n",
        "import numpy as np\n",
        "import matplotlib.pyplot as plt\n",
        "from statsmodels.tsa.statespace.sarimax import SARIMAX\n",
        "from sklearn.metrics import mean_absolute_error\n",
        "\n",
        "# Load sample data\n",
        "data = pd.read_csv('sample_bakery_sales.csv', parse_dates=['date'])\n",
        "data.set_index('date', inplace=True)\n",
        "\n",
        "# Add time-based features\n",
        "data['hour'] = data.index.hour\n",
        "data['day_of_week'] = data.index.dayofweek\n",
        "data['month'] = data.index.month\n",
        "\n",
        "# Encode categorical weather data\n",
        "data = pd.get_dummies(data, columns=['weather'], drop_first=True)\n",
        "\n",
        "# Print data types to check\n",
        "print(data.dtypes)\n",
        "\n",
        "# Ensure all columns are numeric\n",
        "data = data.apply(pd.to_numeric, errors='coerce')\n",
        "\n",
        "# Check for missing values and handle them\n",
        "print(data.isnull().sum())\n",
        "data = data.fillna(0)\n",
        "\n",
        "# Print data types again to confirm\n",
        "print(data.dtypes)\n",
        "\n",
        "# Explicitly convert boolean columns to integers\n",
        "data['weather_rainy'] = data['weather_rainy'].astype(int)\n",
        "data['weather_sunny'] = data['weather_sunny'].astype(int)\n",
        "\n",
        "# Split data into training and test sets\n",
        "train_data = data[:'2023-12-15']\n",
        "test_data = data['2023-12-16':]\n",
        "\n",
        "# Select exogenous variables\n",
        "exog_train = train_data[['promotion', 'weather_rainy', 'weather_sunny']].to_numpy()\n",
        "exog_test = test_data[['promotion', 'weather_rainy', 'weather_sunny']].to_numpy()\n",
        "\n",
        "# Fit SARIMAX model\n",
        "model = SARIMAX(train_data['sales'],\n",
        "                order=(1, 1, 1),\n",
        "                seasonal_order=(1, 1, 1, 24),\n",
        "                exog=exog_train)\n",
        "results = model.fit()\n",
        "\n",
        "# Forecast\n",
        "forecast = results.get_forecast(steps=len(test_data), exog=exog_test)\n",
        "forecast_values = forecast.predicted_mean\n",
        "confidence_intervals = forecast.conf_int()\n",
        "\n",
        "# Evaluate the model\n",
        "mae = mean_absolute_error(test_data['sales'], forecast_values)\n",
        "print(f'Mean Absolute Error: {mae}')\n",
        "\n",
        "# Plot the results\n",
        "plt.figure(figsize=(10, 6))\n",
        "plt.plot(train_data.index, train_data['sales'], label='Training Data')\n",
        "plt.plot(test_data.index, test_data['sales'], label='Actual Sales')\n",
        "plt.plot(test_data.index, forecast_values, label='Forecasted Sales')\n",
        "plt.fill_between(test_data.index, confidence_intervals.iloc[:, 0], confidence_intervals.iloc[:, 1], color='k', alpha=0.2)\n",
        "plt.title('SARIMAX Forecast vs Actual Sales')\n",
        "plt.legend()\n",
        "plt.show()\n"
      ],
      "metadata": {
        "colab": {
          "base_uri": "https://localhost:8080/"
        },
        "id": "BWZE80IejDPc",
        "outputId": "56d0ea13-c1eb-4cd1-f1a5-a77c35b4628f"
      },
      "execution_count": null,
      "outputs": [
        {
          "output_type": "stream",
          "name": "stdout",
          "text": [
            "sales            float64\n",
            "promotion          int64\n",
            "hour               int32\n",
            "day_of_week        int32\n",
            "month              int32\n",
            "weather_rainy       bool\n",
            "weather_sunny       bool\n",
            "dtype: object\n",
            "sales            0\n",
            "promotion        0\n",
            "hour             0\n",
            "day_of_week      0\n",
            "month            0\n",
            "weather_rainy    0\n",
            "weather_sunny    0\n",
            "dtype: int64\n",
            "sales            float64\n",
            "promotion          int64\n",
            "hour               int32\n",
            "day_of_week        int32\n",
            "month              int32\n",
            "weather_rainy       bool\n",
            "weather_sunny       bool\n",
            "dtype: object\n"
          ]
        },
        {
          "output_type": "stream",
          "name": "stderr",
          "text": [
            "/usr/local/lib/python3.10/dist-packages/statsmodels/tsa/base/tsa_model.py:473: ValueWarning: No frequency information was provided, so inferred frequency H will be used.\n",
            "  self._init_dates(dates, freq)\n",
            "/usr/local/lib/python3.10/dist-packages/statsmodels/tsa/base/tsa_model.py:473: ValueWarning: No frequency information was provided, so inferred frequency H will be used.\n",
            "  self._init_dates(dates, freq)\n"
          ]
        }
      ]
    }
  ]
}